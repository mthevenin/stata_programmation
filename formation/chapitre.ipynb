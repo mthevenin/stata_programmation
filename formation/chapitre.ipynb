{
  "cells": [
    {
      "cell_type": "raw",
      "metadata": {},
      "source": [
        "---\n",
        "title: Opérations sur les bases\n",
        "format:\n",
        "  html: default\n",
        "  docx:\n",
        "    toc: true\n",
        "---"
      ],
      "id": "fb50ddc6"
    },
    {
      "cell_type": "markdown",
      "metadata": {},
      "source": [
        "Salut "
      ],
      "id": "9a4db7ca"
    }
  ],
  "metadata": {
    "kernelspec": {
      "name": "nbstata",
      "language": "stata",
      "display_name": "Stata (nbstata)"
    }
  },
  "nbformat": 4,
  "nbformat_minor": 5
}