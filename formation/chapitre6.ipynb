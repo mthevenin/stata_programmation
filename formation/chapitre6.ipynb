{
  "cells": [
    {
      "cell_type": "raw",
      "metadata": {},
      "source": [
        "---\n",
        "title: Opérations sur les bases\n",
        "format:\n",
        "  html: default\n",
        "  docx:\n",
        "    toc: true\n",
        "---"
      ],
      "id": "baff2bec"
    },
    {
      "cell_type": "markdown",
      "metadata": {},
      "source": [
        "# Fusion\n",
        "\n",
        "- Deux types de fusions:\n",
        "  - La fusion verticale non controlée - empilement - (`append`)\n",
        "  - la fusion horizontale contrôlée - appariement - (`merge`).  \n",
        "\n",
        "\n",
        "## Append \n",
        "\n",
        "- Consiste simplement à ajouter des observations entre plusieurs bases, avec ou non un même jeu de variables. \n",
        "\n",
        "![](img6/img1.png)\n",
        "\n",
        "\n",
        "On va généré les deux bases de données avec la commande `input` (non traité dans cette formation: `help input`)\n"
      ],
      "id": "bea78860"
    },
    {
      "cell_type": "code",
      "metadata": {},
      "source": [
        "clear \n",
        "input str6 id v1 v2\n",
        "  \"A\" 8 2 \n",
        "  \"B\" 1 2 \n",
        "  \"C\" 2 4\n",
        "end\n",
        "\n",
        "list\n",
        "\n",
        "save base1, replace"
      ],
      "id": "455c2e6e",
      "execution_count": null,
      "outputs": []
    },
    {
      "cell_type": "code",
      "metadata": {},
      "source": [
        "clear \n",
        "input str20 id v1 v2 v3\n",
        "  \"D\" 2 5 10\n",
        "  \"E\" 12 1 8 \n",
        "end\n",
        "list\n",
        "\n",
        "save base2, replace"
      ],
      "id": "b3cc1e5a",
      "execution_count": null,
      "outputs": []
    },
    {
      "cell_type": "markdown",
      "metadata": {},
      "source": [
        "La syntaxe de la commande `append` consiste à ajouter une ou plusieurs bases à la base active avec l'argument `using`.  \n"
      ],
      "id": "26e301ad"
    },
    {
      "cell_type": "code",
      "metadata": {},
      "source": [
        "append using base1\n",
        "sort id\n",
        "list"
      ],
      "id": "95edb433",
      "execution_count": null,
      "outputs": []
    },
    {
      "cell_type": "markdown",
      "metadata": {},
      "source": [
        "On peut sélectionner les variables de la base qui sera empilée à la base active avec l'option `keep`.   \n",
        "Dans l'exemple, si la base active est *base1*, on peut ne pas vouloir ajouter la variable *v3* seulement renseignée pour les observations de *base2*.\n"
      ],
      "id": "187ed074"
    },
    {
      "cell_type": "code",
      "metadata": {},
      "source": [
        "use base1, clear\n",
        "append using base2, keep(id v1 v2)\n",
        "list "
      ],
      "id": "aa4d06f6",
      "execution_count": null,
      "outputs": []
    },
    {
      "cell_type": "markdown",
      "metadata": {},
      "source": [
        "Si les informations précédentes étaient ventilées dans trois bases, une par variable *v*, et avec le même niveau d'observation (A,B,C,D,E dans les 3 bases), l'utilisation  de `append` conduirait à une structure empilée non souhaitable avec une réplication des *id*.\n",
        "\n",
        "\n",
        "\n",
        "Pour obtenir base finale proprement appariée, il convient de faire une fusion horizontale contrôlée par une une clé d'identification.\n",
        "\n",
        "\n",
        "## Merge\n",
        "\n",
        "* Fusion contrôlée par une clé d’appariement (variable(s))\n",
        "* Un merge peut réaliser un empilement (`append`), mais pas l’inverse.\n",
        "* La commande usine est **`merge`**. Pour contrôler des niveaux d’identification différents on peut y ajouter `1:1`, `1:m`, `m:1` ou `m:m` (le dernier prefixe estrarement ou jamais utiliser). Avec ces prefixes ont ne peut apparier que deux bases.\n",
        "* Depuis Stata 16 on peut réaliser des merge en transformant les bases en **frame**. Cette solution est très adapté aux appariements de données individuelles avec des données contextuelles. Cette solution sera traitée plus bas.\n",
        "\n",
        "::: callout-important\n",
        "\n",
        "Stata demande que les bases soient soit triées (`sort`) sur la clé d'appariement en amont de l'opération. Sinon un message d'erreur sera renvoyé.  \n",
        ":::\n",
        "\n",
        "* La base active (ouverte) est appelée **base master**\n",
        "* La base qui sera appariée à la base ouverte est appelée base **using** ^[Cela peut être plusieurs bases.]\n",
        "\n",
        "\n",
        "**Syntaxe minimale 1 avec préfixe**:  \n",
        "```markdown\n",
        "merge [1:1] [1:m] [m:1] id_var using nom_base\n",
        "```\n",
        "\n",
        "* Ici on ne peut pas apparier plus de 2 bases. \n",
        "* Si les deux bases ont un niveau d'identification différent, par exemple un contextuel et un individuel, la commande `merge 1:1` sera bloquée. Ces préfixes jouent donc le rôle de sécurité.\n",
        "\n",
        "\n",
        "**Syntaxe minimale 2 sans  préfixe**:  \n",
        "```markdown\n",
        "merge id_var using nom_bases\n",
        "```\n",
        "\n",
        "* Ici on peut apparier plus de deux bases. \n",
        "* On ne dispose pas de sécurité, si les niveau d'identification sont différents. \n",
        "\n",
        "Partons des informations suivantes: \n",
        "- *Base1* comprend la variable d'identification *id* (observations A,B,C) et de deux variables numériques *v1* et *v3*\n",
        "- *Base2* comprend la même variable d'identification *id* (observations B,C,D) et de la variable numérique *v3*\n",
        "\n",
        "![](img6/img3.png)\n",
        "Le niveau d'identification est identique dans les deux bases. Il s'agit donc d'un **`merge 1:1`**  [one to one]\n",
        "\n",
        "On va de nouveau générer les bases avec `input`.  \n"
      ],
      "id": "a97b0f56"
    },
    {
      "cell_type": "code",
      "metadata": {},
      "source": [
        "clear \n",
        "input str1 id v1 v2 \n",
        "\"A\" 8 2 \n",
        "\"B\" 1 2\n",
        "\"C\" 2 4 \n",
        "end\n",
        "list\n",
        "\n",
        "sort id\n",
        "save base1, replace"
      ],
      "id": "9900b50f",
      "execution_count": null,
      "outputs": []
    },
    {
      "cell_type": "markdown",
      "metadata": {},
      "source": [
        "Rappel: bien faire le `sort` sur la base using\n"
      ],
      "id": "bf0316d1"
    },
    {
      "cell_type": "code",
      "metadata": {},
      "source": [
        "clear\n",
        "input str1 id v3 \n",
        "\"B\" 10 \n",
        "\"C\" 8\n",
        "\"D\" 10 \n",
        "end\n",
        "list\n",
        "\n",
        "sort id\n",
        "save base2, replace "
      ],
      "id": "7028611a",
      "execution_count": null,
      "outputs": []
    },
    {
      "cell_type": "markdown",
      "metadata": {},
      "source": [
        "Pour l'appariement, de nouveau faire le tri\n"
      ],
      "id": "090e9711"
    },
    {
      "cell_type": "code",
      "metadata": {},
      "source": [
        "merge 1:1 id using base1"
      ],
      "id": "4914b749",
      "execution_count": null,
      "outputs": []
    },
    {
      "cell_type": "markdown",
      "metadata": {},
      "source": [
        "* L'output affiche le résultat de l'appariement à l'aide d'un tableau.\n",
        "* Une variable, **`_merge`**, est générée. Elle permettra de filtrer si nécessaire les observations selon le résultat de l'aapriement. Contrairement à d'autres application, cette opération n'est pas effectuée en amont avec des fonctions où des options spécifiques. Par exemple avec R: `left_join`, `right_join`, `inner_join`.\n",
        "  `_merge = 1` : observations qui se trouvent seulement dans la base active (master)\n",
        "  `_merge = 2` : observations qui se trouvent seulement dans la base using (appariée)\n",
        "  `_merge = 3` : observations communes aux bases master et using.\n",
        "* Les variables de la base master/active sont positionnées en tête.\n"
      ],
      "id": "86486498"
    },
    {
      "cell_type": "code",
      "metadata": {},
      "source": [
        "sort id\n",
        "list"
      ],
      "id": "e74d7f55",
      "execution_count": null,
      "outputs": []
    },
    {
      "cell_type": "markdown",
      "metadata": {},
      "source": [
        "Si on souhaite conserver que les observations communes aux deux bases (`_merge=3`): \n"
      ],
      "id": "918ae235"
    },
    {
      "cell_type": "code",
      "metadata": {},
      "source": [
        "keep if _merge==3\n",
        "list"
      ],
      "id": "a822ee5c",
      "execution_count": null,
      "outputs": []
    },
    {
      "cell_type": "markdown",
      "metadata": {},
      "source": [
        "::: callout-warning\n",
        "\n",
        "## Variable _merge et appariement successif\n",
        "\n",
        "Pensez à supprimer la variable _merge si plusieurs opérérations d'appariement sont effectués. La commande ne prévoit pas \n",
        "d'écraser la variable du merge précédent.\n",
        ":::\n",
        "\n",
        "\n",
        "\n",
        "\n",
        "![](img6/img2.png)"
      ],
      "id": "17b2a337"
    }
  ],
  "metadata": {
    "kernelspec": {
      "name": "nbstata",
      "language": "stata",
      "display_name": "Stata (nbstata)"
    }
  },
  "nbformat": 4,
  "nbformat_minor": 5
}